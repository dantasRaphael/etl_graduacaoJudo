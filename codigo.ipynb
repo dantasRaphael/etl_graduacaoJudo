{
 "cells": [
  {
   "cell_type": "code",
   "execution_count": null,
   "metadata": {},
   "outputs": [],
   "source": [
    "import pandas as pd\n",
    "from heapq import merge"
   ]
  },
  {
   "cell_type": "code",
   "execution_count": null,
   "metadata": {},
   "outputs": [],
   "source": [
    "#importando arquivo 1\n",
    "file_2019 = \"dados2019.xlsx\"\n",
    "df = pd.read_excel(file_2019)\n",
    "\n",
    "#excluindo colunas desejadas\n",
    "df = df.drop([\"col A\",\"col B\"], axis=1)\n",
    "\n",
    "#alterando ordem das colunas\n",
    "df = df[['NOME', 'GRADUAÇÃO', 'NOTA']]\n",
    "\n",
    "#alterando nome das colunas\n",
    "df = df.rename(columns = {'NOME':'nome', 'FAIXA':'faixa', 'NOTA':'nota_2019'})\n",
    "\n",
    "#visualisar o df\n",
    "df.head()"
   ]
  },
  {
   "cell_type": "code",
   "execution_count": null,
   "metadata": {},
   "outputs": [],
   "source": [
    "#importando arqv 2\n",
    "file_2022 = 'dados2022.xlsx'\n",
    "\n",
    "df2 = pd.read_excel(file_2022)\n",
    "\n",
    "df2.head()"
   ]
  },
  {
   "cell_type": "code",
   "execution_count": null,
   "metadata": {},
   "outputs": [],
   "source": [
    "#juntando as duas tabelas, e trazendo as informações correspondente ao nome do alunos\n",
    "df3 = pd.merge(df2, df, on=['nome'], how='left')\n",
    "\n",
    "#alterando ordem das colunas\n",
    "df3 = df3[['id', 'nome', 'sala', 'nota_2019', 'faixa', 'nota_2022', 'graduacao']]\n",
    "\n",
    "#visualisas\n",
    "df3.head()"
   ]
  },
  {
   "cell_type": "code",
   "execution_count": null,
   "metadata": {},
   "outputs": [],
   "source": [
    "#exportar para o excel\n",
    "df_impressao = pd.DataFrame(df3, columns=['id', 'nome', 'sala', 'nota_2019', 'faixa', 'nota_2022', 'graduacao'])\n",
    "df_impressao.to_excel('graduacao2022.xlsx')"
   ]
  }
 ],
 "metadata": {
  "kernelspec": {
   "display_name": "Python 3.10.2 64-bit",
   "language": "python",
   "name": "python3"
  },
  "language_info": {
   "name": "python",
   "version": "3.10.2"
  },
  "orig_nbformat": 4,
  "vscode": {
   "interpreter": {
    "hash": "9e6b67f0de49d344d4c13f05e88c093db00848af1c37be34556d75ad4b6d99e4"
   }
  }
 },
 "nbformat": 4,
 "nbformat_minor": 2
}
